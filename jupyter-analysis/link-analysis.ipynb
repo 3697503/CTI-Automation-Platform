{
 "cells": [
  {
   "attachments": {},
   "cell_type": "markdown",
   "metadata": {},
   "source": [
    "# Visualizing MISP Data within Neo4j for Link Analysis\n",
    "\n",
    "This notebook visualizes MISP Events within a Neo4j database. "
   ]
  },
  {
   "attachments": {},
   "cell_type": "markdown",
   "metadata": {},
   "source": [
    "## Initial Setup\n",
    "\n",
    "Configuring MISP and Neo4j credentials"
   ]
  },
  {
   "cell_type": "code",
   "execution_count": 1,
   "metadata": {},
   "outputs": [],
   "source": [
    "from pymisp import PyMISP\n",
    "from neo4j import GraphDatabase\n",
    "import jmespath\n",
    "\n",
    "# MISP configuration\n",
    "MISP_URL = 'https://localhost'\n",
    "MISP_KEY = '53XxW3buXZsFqLm0Mqry8sGQCsNlSDfKfKmX7jei'\n",
    "\n",
    "# Neo4j configuration\n",
    "NEO4J_URL = 'bolt://localhost:7687'\n",
    "NEO4J_USERNAME = 'neo4j'\n",
    "NEO4J_PASSWORD = 'disco-ventura-torso-robin-carrot-8913'"
   ]
  },
  {
   "attachments": {},
   "cell_type": "markdown",
   "metadata": {},
   "source": [
    "## Function for reading a MISP event and pushing it to Neo4j"
   ]
  },
  {
   "cell_type": "code",
   "execution_count": 26,
   "metadata": {},
   "outputs": [],
   "source": [
    "def create_event_nodes(tx, event):\n",
    "       # Create the event node\n",
    "       print(f\"Creating Event: {event['info']}\")\n",
    "       tx.run(\"MERGE (e:Event {id: $id}) \"\n",
    "              \"SET e.info = $info, e.date = $date\", id=event['uuid'], info=event['info'], date=event['date'])\n",
    "\n",
    "       # Create the attribute nodes and relationships\n",
    "       for attribute in event['Attribute']:\n",
    "              tx.run(\"MERGE (a:\"+ attribute['type'].replace('-', '_') + \" {id: $id}) \"\n",
    "                     \"SET a.type = $type, a.value = $value, a.category = $category\", id=attribute['value'],\n",
    "                     type=attribute['type'], value=attribute['value'], category=attribute['category'])\n",
    "              \n",
    "              # Create the relationship between the event and attribute\n",
    "              tx.run(\"MATCH (e:Event {id: $eventId}), (a:\" + attribute['type'].replace('-', '_') + \" {id: $attributeId}) \"\n",
    "                     \"MERGE (e)-[:HAS_ATTRIBUTE]->(a)\", eventId=event['uuid'], attributeId=attribute['value'])\n",
    "       \n",
    "       for obj in event['Object']:\n",
    "              objectId = obj['uuid']\n",
    "              # Create the relationship between the event and object\n",
    "              tx.run(\"MATCH (e:Event {id: $eventId}), (o:Object {id: $objectId, comment: $objectComment}) \"\n",
    "                     \"MERGE (e)-[:HAS_OBJECT]->(o)\", \n",
    "                     eventId=event['uuid'], \n",
    "                     objectId=objectId, \n",
    "                     objectComment=obj['comment']\n",
    "              )\n",
    "              \n",
    "              # Create the relationships b/w the object and object attributes\n",
    "              objectRefAttrs = jmespath.search('[].Attribute.{value: value, type: type}', obj['ObjectReference'])\n",
    "              for attribute in obj['Attribute']:\n",
    "                     tx.run(\"MERGE (a:\" + attribute['type'].replace('-', '_') + \" {id: $id}) \"\n",
    "                     \"SET a.type = $type, a.value = $value, a.category = $category\", id=attribute['value'],\n",
    "                     type=attribute['type'], value=attribute['value'], category=attribute['category'])\n",
    "                     # Create the relationship between the event and attribute\n",
    "                     # tx.run(\"MATCH (e:Event {id: $eventId}), (a:Attribute {id: $attributeId}) \"\n",
    "                     #        \"MERGE (e)-[:HAS_ATTRIBUTE]->(a)\", eventId=event['uuid'], attributeId=attribute['value'])\n",
    "\n",
    "                     # tx.run(\"MATCH (o:Object {id: $objectId}), (a:Attribute {id: $attributeId}) \"\n",
    "                     #        \"MERGE (o)-[:HAS_ATTRIBUTE]->(a)\", objectId=objectId, attributeId=attribute['value'])\n",
    "                     for refAttr in objectRefAttrs:\n",
    "                            if refAttr['value'] != attribute['value']:\n",
    "                                   print(f\"{attribute['value']} --> {refAttr}\")\n",
    "                                   tx.run(\"MATCH (a:\" + attribute['type'].replace('-', '_') + \" {id: $attributeId}), (ra:\" + refAttr['type'].replace('-', '_') + \"{id: $refAttrId, type: $refAttrType})\"\n",
    "                                          \"MERGE (a)-[:RELATED_TO]->(ra)\", \n",
    "                                          refAttrId=refAttr['value'], \n",
    "                                          attributeId=attribute['value'], \n",
    "                                          type=attribute['type'], \n",
    "                                          refAttrType=refAttr['type'])\n",
    "                            \n",
    "\n"
   ]
  },
  {
   "cell_type": "code",
   "execution_count": 3,
   "metadata": {},
   "outputs": [],
   "source": [
    "# Execute the transaction to delete all nodes\n",
    "def delete_all_nodes(tx):\n",
    "    tx.run(\"MATCH (n) DETACH DELETE n\")"
   ]
  },
  {
   "cell_type": "code",
   "execution_count": 4,
   "metadata": {},
   "outputs": [
    {
     "name": "stderr",
     "output_type": "stream",
     "text": [
      "/home/bikram/Git/cti-platform/orchestration/venv/lib64/python3.11/site-packages/urllib3/connectionpool.py:1095: InsecureRequestWarning: Unverified HTTPS request is being made to host 'localhost'. Adding certificate verification is strongly advised. See: https://urllib3.readthedocs.io/en/latest/advanced-usage.html#tls-warnings\n",
      "  warnings.warn(\n",
      "The version of PyMISP recommended by the MISP instance (2.4.171) is newer than the one you're using now (2.4.170.2). Please upgrade PyMISP.\n",
      "/home/bikram/Git/cti-platform/orchestration/venv/lib64/python3.11/site-packages/urllib3/connectionpool.py:1095: InsecureRequestWarning: Unverified HTTPS request is being made to host 'localhost'. Adding certificate verification is strongly advised. See: https://urllib3.readthedocs.io/en/latest/advanced-usage.html#tls-warnings\n",
      "  warnings.warn(\n",
      "/home/bikram/Git/cti-platform/orchestration/venv/lib64/python3.11/site-packages/urllib3/connectionpool.py:1095: InsecureRequestWarning: Unverified HTTPS request is being made to host 'localhost'. Adding certificate verification is strongly advised. See: https://urllib3.readthedocs.io/en/latest/advanced-usage.html#tls-warnings\n",
      "  warnings.warn(\n"
     ]
    }
   ],
   "source": [
    "# Connect to MISP\n",
    "misp = PyMISP(MISP_URL, MISP_KEY, ssl=False)"
   ]
  },
  {
   "cell_type": "code",
   "execution_count": 5,
   "metadata": {},
   "outputs": [],
   "source": [
    "# Connect to Neo4j\n",
    "driver = GraphDatabase.driver(NEO4J_URL, auth=(NEO4J_USERNAME, NEO4J_PASSWORD))"
   ]
  },
  {
   "cell_type": "code",
   "execution_count": 8,
   "metadata": {},
   "outputs": [
    {
     "name": "stderr",
     "output_type": "stream",
     "text": [
      "/home/bikram/Git/cti-platform/orchestration/venv/lib64/python3.11/site-packages/urllib3/connectionpool.py:1095: InsecureRequestWarning: Unverified HTTPS request is being made to host 'localhost'. Adding certificate verification is strongly advised. See: https://urllib3.readthedocs.io/en/latest/advanced-usage.html#tls-warnings\n",
      "  warnings.warn(\n"
     ]
    }
   ],
   "source": [
    "# Get a particular event\n",
    "event = misp.get_event(7)\n"
   ]
  },
  {
   "cell_type": "code",
   "execution_count": null,
   "metadata": {},
   "outputs": [],
   "source": [
    "# Fetch events from MISP\n",
    "events = misp.search()"
   ]
  },
  {
   "cell_type": "code",
   "execution_count": null,
   "metadata": {},
   "outputs": [],
   "source": [
    "events"
   ]
  },
  {
   "cell_type": "code",
   "execution_count": 28,
   "metadata": {},
   "outputs": [
    {
     "name": "stderr",
     "output_type": "stream",
     "text": [
      "/tmp/ipykernel_93180/2162331495.py:4: DeprecationWarning: write_transaction has been renamed to execute_write\n",
      "  session.write_transaction(lambda tx: [create_event_nodes(tx, event['Event']) for event in events])\n"
     ]
    },
    {
     "name": "stdout",
     "output_type": "stream",
     "text": [
      "Creating Event: Bluenoroff’s RustBucket campaign\n",
      "13768 --> {'value': '104.255.172.52', 'type': 'ip-dst'}\n",
      "Los Angeles --> {'value': '104.255.172.52', 'type': 'ip-dst'}\n",
      "US --> {'value': '104.255.172.52', 'type': 'ip-dst'}\n",
      "United States --> {'value': '104.255.172.52', 'type': 'ip-dst'}\n",
      "Aptum Technologies --> {'value': '104.255.172.52', 'type': 'ip-dst'}\n",
      "34.05223 --> {'value': '104.255.172.52', 'type': 'ip-dst'}\n",
      "-118.24368 --> {'value': '104.255.172.52', 'type': 'ip-dst'}\n",
      "H4Y Technologies LLC --> {'value': '104.255.172.52', 'type': 'ip-dst'}\n",
      "CA --> {'value': '104.255.172.52', 'type': 'ip-dst'}\n",
      "80 --> {'value': '104.255.172.52', 'type': 'ip-dst'}\n",
      "443 --> {'value': '104.255.172.52', 'type': 'ip-dst'}\n",
      "13098529066745705731 --> {'value': '104.255.172.52', 'type': 'ip-dst'}\n",
      "sha1WithRSAEncryption --> {'value': '104.255.172.52', 'type': 'ip-dst'}\n",
      "/CN=localhost --> {'value': '104.255.172.52', 'type': 'ip-dst'}\n",
      "/CN=localhost --> {'value': '104.255.172.52', 'type': 'ip-dst'}\n",
      "2019-11-08T23:48:47.000000+0000 --> {'value': '104.255.172.52', 'type': 'ip-dst'}\n",
      "2009-11-10T23:48:47.000000+0000 --> {'value': '104.255.172.52', 'type': 'ip-dst'}\n",
      "016973380c0f1df00bd9593ed8d5efa3706cd6df7993f6141272b80522acdd23 --> {'value': '104.255.172.52', 'type': 'ip-dst'}\n",
      "b0238c547a905bfa119c4e8baccaeacf36491ff6 --> {'value': '104.255.172.52', 'type': 'ip-dst'}\n",
      "rsa --> {'value': '104.255.172.52', 'type': 'ip-dst'}\n",
      "1024 --> {'value': '104.255.172.52', 'type': 'ip-dst'}\n",
      "20473 --> {'value': '155.138.159.45', 'type': 'ip-dst'}\n",
      "Toronto --> {'value': '155.138.159.45', 'type': 'ip-dst'}\n",
      "CA --> {'value': '155.138.159.45', 'type': 'ip-dst'}\n",
      "Canada --> {'value': '155.138.159.45', 'type': 'ip-dst'}\n",
      "The Constant Company, LLC --> {'value': '155.138.159.45', 'type': 'ip-dst'}\n",
      "43.7946 --> {'value': '155.138.159.45', 'type': 'ip-dst'}\n",
      "-79.2644 --> {'value': '155.138.159.45', 'type': 'ip-dst'}\n",
      "Vultr Holdings, LLC --> {'value': '155.138.159.45', 'type': 'ip-dst'}\n",
      "ON --> {'value': '155.138.159.45', 'type': 'ip-dst'}\n",
      "80 --> {'value': '155.138.159.45', 'type': 'ip-dst'}\n",
      "443 --> {'value': '155.138.159.45', 'type': 'ip-dst'}\n",
      "3389 --> {'value': '155.138.159.45', 'type': 'ip-dst'}\n",
      "vultrusercontent.com --> {'value': '155.138.159.45', 'type': 'ip-dst'}\n",
      "onlinecloud.cloud --> {'value': '155.138.159.45', 'type': 'ip-dst'}\n",
      "155.138.159.45.vultrusercontent.com --> {'value': '155.138.159.45', 'type': 'ip-dst'}\n",
      "onlinecloud.cloud --> {'value': '155.138.159.45', 'type': 'ip-dst'}\n",
      "Toronto --> {'value': '155.138.159.45', 'type': 'ip-dst'}\n",
      "Toronto --> {'value': '149.248.52.31', 'type': 'ip-dst'}\n",
      "Toronto --> {'value': '155.138.159.45', 'type': 'ip-dst'}\n",
      "Toronto --> {'value': '155.138.159.45', 'type': 'ip-dst'}\n",
      "M5A --> {'value': '155.138.159.45', 'type': 'ip-dst'}\n",
      "M5A --> {'value': '149.248.52.31', 'type': 'ip-dst'}\n",
      "M5A --> {'value': '155.138.159.45', 'type': 'ip-dst'}\n",
      "M5A --> {'value': '155.138.159.45', 'type': 'ip-dst'}\n",
      "Ontario --> {'value': '155.138.159.45', 'type': 'ip-dst'}\n",
      "Ontario --> {'value': '149.248.52.31', 'type': 'ip-dst'}\n",
      "Ontario --> {'value': '155.138.159.45', 'type': 'ip-dst'}\n",
      "Ontario --> {'value': '155.138.159.45', 'type': 'ip-dst'}\n",
      "CA --> {'value': '155.138.159.45', 'type': 'ip-dst'}\n",
      "CA --> {'value': '149.248.52.31', 'type': 'ip-dst'}\n",
      "CA --> {'value': '155.138.159.45', 'type': 'ip-dst'}\n",
      "CA --> {'value': '155.138.159.45', 'type': 'ip-dst'}\n",
      "43.7001 --> {'value': '155.138.159.45', 'type': 'ip-dst'}\n",
      "43.7001 --> {'value': '149.248.52.31', 'type': 'ip-dst'}\n",
      "43.7001 --> {'value': '155.138.159.45', 'type': 'ip-dst'}\n",
      "43.7001 --> {'value': '155.138.159.45', 'type': 'ip-dst'}\n",
      "-79.4163 --> {'value': '155.138.159.45', 'type': 'ip-dst'}\n",
      "-79.4163 --> {'value': '149.248.52.31', 'type': 'ip-dst'}\n",
      "-79.4163 --> {'value': '155.138.159.45', 'type': 'ip-dst'}\n",
      "-79.4163 --> {'value': '155.138.159.45', 'type': 'ip-dst'}\n",
      "155.138.159.45.vultrusercontent.com --> {'value': '155.138.159.45', 'type': 'ip-dst'}\n",
      "155.138.159.45.vultrusercontent.com --> {'value': '155.138.159.45', 'type': 'ip-dst'}\n",
      "155.138.159.45.vultrusercontent.com --> {'value': '155.138.159.45', 'type': 'ip-dst'}\n",
      "20473 --> {'value': '155.138.159.45', 'type': 'ip-dst'}\n",
      "The Constant Company, LLC --> {'value': '155.138.159.45', 'type': 'ip-dst'}\n",
      "Irving --> {'value': '172.86.121.143', 'type': 'ip-dst'}\n",
      "Irving --> {'value': '172.86.121.130', 'type': 'ip-dst'}\n",
      "Irving --> {'value': '172.86.122.181', 'type': 'ip-dst'}\n",
      "75059 --> {'value': '172.86.121.143', 'type': 'ip-dst'}\n",
      "75059 --> {'value': '172.86.121.130', 'type': 'ip-dst'}\n",
      "75059 --> {'value': '172.86.122.181', 'type': 'ip-dst'}\n",
      "Texas --> {'value': '172.86.121.143', 'type': 'ip-dst'}\n",
      "Texas --> {'value': '172.86.121.130', 'type': 'ip-dst'}\n",
      "Texas --> {'value': '172.86.122.181', 'type': 'ip-dst'}\n",
      "US --> {'value': '172.86.121.143', 'type': 'ip-dst'}\n",
      "US --> {'value': '172.86.121.130', 'type': 'ip-dst'}\n",
      "US --> {'value': '172.86.122.181', 'type': 'ip-dst'}\n",
      "32.8140 --> {'value': '172.86.121.143', 'type': 'ip-dst'}\n",
      "32.8140 --> {'value': '172.86.121.130', 'type': 'ip-dst'}\n",
      "32.8140 --> {'value': '172.86.122.181', 'type': 'ip-dst'}\n",
      "-96.9489 --> {'value': '172.86.121.143', 'type': 'ip-dst'}\n",
      "-96.9489 --> {'value': '172.86.121.130', 'type': 'ip-dst'}\n",
      "-96.9489 --> {'value': '172.86.122.181', 'type': 'ip-dst'}\n",
      "172-86-121-143.static.hvvc.us --> {'value': '172.86.121.143', 'type': 'ip-dst'}\n",
      "14956 --> {'value': '172.86.121.143', 'type': 'ip-dst'}\n",
      "RouterHosting LLC --> {'value': '172.86.121.143', 'type': 'ip-dst'}\n",
      "Atlanta --> {'value': '155.138.219.140', 'type': 'ip-dst'}\n",
      "30318 --> {'value': '155.138.219.140', 'type': 'ip-dst'}\n",
      "Georgia --> {'value': '155.138.219.140', 'type': 'ip-dst'}\n",
      "US --> {'value': '155.138.219.140', 'type': 'ip-dst'}\n",
      "33.7865 --> {'value': '155.138.219.140', 'type': 'ip-dst'}\n",
      "-84.4454 --> {'value': '155.138.219.140', 'type': 'ip-dst'}\n",
      "155.138.219.140.vultrusercontent.com --> {'value': '155.138.219.140', 'type': 'ip-dst'}\n",
      "20473 --> {'value': '155.138.219.140', 'type': 'ip-dst'}\n",
      "The Constant Company, LLC --> {'value': '155.138.219.140', 'type': 'ip-dst'}\n",
      "Chicago --> {'value': '172.93.181.221', 'type': 'ip-dst'}\n",
      "60666 --> {'value': '172.93.181.221', 'type': 'ip-dst'}\n",
      "Illinois --> {'value': '172.93.181.221', 'type': 'ip-dst'}\n",
      "US --> {'value': '172.93.181.221', 'type': 'ip-dst'}\n",
      "41.8500 --> {'value': '172.93.181.221', 'type': 'ip-dst'}\n",
      "-87.6500 --> {'value': '172.93.181.221', 'type': 'ip-dst'}\n",
      "221-181-93-172.reverse-dns --> {'value': '172.93.181.221', 'type': 'ip-dst'}\n",
      "20278 --> {'value': '172.93.181.221', 'type': 'ip-dst'}\n",
      "Nexeon Technologies, Inc. --> {'value': '172.93.181.221', 'type': 'ip-dst'}\n",
      "Burien --> {'value': '104.168.167.88', 'type': 'ip-dst'}\n",
      "98062 --> {'value': '104.168.167.88', 'type': 'ip-dst'}\n",
      "Washington --> {'value': '104.168.167.88', 'type': 'ip-dst'}\n",
      "US --> {'value': '104.168.167.88', 'type': 'ip-dst'}\n",
      "47.4704 --> {'value': '104.168.167.88', 'type': 'ip-dst'}\n",
      "-122.3468 --> {'value': '104.168.167.88', 'type': 'ip-dst'}\n",
      "a-0003.a-msedge.net --> {'value': '104.168.167.88', 'type': 'ip-dst'}\n",
      "54290 --> {'value': '104.168.167.88', 'type': 'ip-dst'}\n",
      "Hostwinds LLC. --> {'value': '104.168.167.88', 'type': 'ip-dst'}\n",
      "172-86-121-130.static.hvvc.us --> {'value': '172.86.121.130', 'type': 'ip-dst'}\n",
      "14956 --> {'value': '172.86.121.130', 'type': 'ip-dst'}\n",
      "RouterHosting LLC --> {'value': '172.86.121.130', 'type': 'ip-dst'}\n",
      "149.248.52.31.vultrusercontent.com --> {'value': '149.248.52.31', 'type': 'ip-dst'}\n",
      "20473 --> {'value': '149.248.52.31', 'type': 'ip-dst'}\n",
      "The Constant Company, LLC --> {'value': '149.248.52.31', 'type': 'ip-dst'}\n",
      "172-86-122-181.static.hvvc.us --> {'value': '172.86.122.181', 'type': 'ip-dst'}\n",
      "14956 --> {'value': '172.86.122.181', 'type': 'ip-dst'}\n",
      "RouterHosting LLC --> {'value': '172.86.122.181', 'type': 'ip-dst'}\n",
      "Dallas --> {'value': '149.28.247.34', 'type': 'ip-dst'}\n",
      "75201 --> {'value': '149.28.247.34', 'type': 'ip-dst'}\n",
      "Texas --> {'value': '149.28.247.34', 'type': 'ip-dst'}\n",
      "US --> {'value': '149.28.247.34', 'type': 'ip-dst'}\n",
      "32.7831 --> {'value': '149.28.247.34', 'type': 'ip-dst'}\n",
      "-96.8067 --> {'value': '149.28.247.34', 'type': 'ip-dst'}\n",
      "149.28.247.34.vultrusercontent.com --> {'value': '149.28.247.34', 'type': 'ip-dst'}\n",
      "20473 --> {'value': '149.28.247.34', 'type': 'ip-dst'}\n",
      "The Constant Company, LLC --> {'value': '149.28.247.34', 'type': 'ip-dst'}\n",
      "Seattle --> {'value': '104.168.174.80', 'type': 'ip-dst'}\n",
      "Seattle --> {'value': '104.168.138.7', 'type': 'ip-dst'}\n",
      "98101 --> {'value': '104.168.174.80', 'type': 'ip-dst'}\n",
      "98101 --> {'value': '104.168.138.7', 'type': 'ip-dst'}\n",
      "Washington --> {'value': '104.168.174.80', 'type': 'ip-dst'}\n",
      "Washington --> {'value': '104.168.138.7', 'type': 'ip-dst'}\n",
      "US --> {'value': '104.168.174.80', 'type': 'ip-dst'}\n",
      "US --> {'value': '104.168.138.7', 'type': 'ip-dst'}\n",
      "47.6062 --> {'value': '104.168.174.80', 'type': 'ip-dst'}\n",
      "47.6062 --> {'value': '104.168.138.7', 'type': 'ip-dst'}\n",
      "-122.3321 --> {'value': '104.168.174.80', 'type': 'ip-dst'}\n",
      "-122.3321 --> {'value': '104.168.138.7', 'type': 'ip-dst'}\n",
      "hwsrv-1073757.hostwindsdns.com --> {'value': '104.168.174.80', 'type': 'ip-dst'}\n",
      "54290 --> {'value': '104.168.174.80', 'type': 'ip-dst'}\n",
      "Hostwinds LLC. --> {'value': '104.168.174.80', 'type': 'ip-dst'}\n",
      "a-0004.a-msedge.net --> {'value': '104.168.138.7', 'type': 'ip-dst'}\n",
      "54290 --> {'value': '104.168.138.7', 'type': 'ip-dst'}\n",
      "Hostwinds LLC. --> {'value': '104.168.138.7', 'type': 'ip-dst'}\n",
      "20473 --> {'value': '155.138.159.45', 'type': 'ip-dst'}\n",
      "The Constant Company, LLC --> {'value': '155.138.159.45', 'type': 'ip-dst'}\n",
      "20473 --> {'value': '155.138.159.45', 'type': 'ip-dst'}\n",
      "The Constant Company, LLC --> {'value': '155.138.159.45', 'type': 'ip-dst'}\n",
      "20473 --> {'value': '155.138.159.45', 'type': 'ip-dst'}\n",
      "The Constant Company, LLC --> {'value': '155.138.159.45', 'type': 'ip-dst'}\n"
     ]
    }
   ],
   "source": [
    "# Create nodes and relationships in Neo4j\n",
    "events = [event]\n",
    "with driver.session() as session:\n",
    "    session.write_transaction(lambda tx: [create_event_nodes(tx, event['Event']) for event in events])\n",
    "\n",
    "# Close the Neo4j driver\n",
    "driver.close()"
   ]
  },
  {
   "cell_type": "code",
   "execution_count": 27,
   "metadata": {},
   "outputs": [
    {
     "name": "stderr",
     "output_type": "stream",
     "text": [
      "/tmp/ipykernel_93180/922533380.py:3: DeprecationWarning: write_transaction has been renamed to execute_write\n",
      "  session.write_transaction(delete_all_nodes)\n"
     ]
    }
   ],
   "source": [
    "# Run the transaction\n",
    "with driver.session() as session:\n",
    "    session.write_transaction(delete_all_nodes)"
   ]
  },
  {
   "cell_type": "code",
   "execution_count": null,
   "metadata": {},
   "outputs": [],
   "source": [
    "import networkx as nx\n",
    "import matplotlib.pyplot as plt"
   ]
  },
  {
   "cell_type": "code",
   "execution_count": null,
   "metadata": {},
   "outputs": [],
   "source": [
    "# Create an empty graph\n",
    "G = nx.Graph()\n",
    "\n",
    "# Create nodes for Event, Attributes, Galaxies, and Objects\n",
    "G.add_node(event['Event']['uuid'], label='Event', info=event['Event']['info'])\n",
    "for attribute in event['Event']['Attribute']:\n",
    "    G.add_node(attribute['uuid'], label='Attribute', type=attribute['type'], value=attribute['value'])\n",
    "for galaxy in event['Event']['Galaxy']:\n",
    "    G.add_node(galaxy['uuid'], label='Galaxy', name=galaxy['name'])\n",
    "for obj in event['Event']['Object']:\n",
    "    G.add_node(obj['uuid'], label='Object', name=obj['name'])\n",
    "\n",
    "# Create relationships\n",
    "for attribute in event['Event']['Attribute']:\n",
    "    G.add_edge(event['Event']['uuid'], attribute['value'], relationship='Event to Attribute')\n",
    "    for galaxy in attribute['Galaxy']:\n",
    "        G.add_edge(attribute['uuid'], galaxy['value'], relationship='Attribute to Galaxy')\n",
    "\n",
    "# Visualize the graph\n",
    "pos = nx.spring_layout(G)\n",
    "node_labels = nx.get_node_attributes(G, 'label')\n",
    "edge_labels = nx.get_edge_attributes(G, 'relationship')\n",
    "\n",
    "plt.figure(figsize=(10, 10))\n",
    "nx.draw_networkx(G, pos, with_labels=True, labels=node_labels)\n",
    "nx.draw_networkx_edge_labels(G, pos, edge_labels=edge_labels)\n",
    "plt.title('MISP Event Visualization')\n",
    "plt.axis('off')\n",
    "plt.show()\n"
   ]
  },
  {
   "cell_type": "code",
   "execution_count": null,
   "metadata": {},
   "outputs": [],
   "source": [
    "# Create a tree layout\n",
    "pos = nx.nx_pydot.graphviz_layout(G, prog='dot')\n",
    "\n",
    "# Visualize the tree\n",
    "plt.figure(figsize=(10, 100))\n",
    "nx.draw(G, pos, with_labels=True, node_size=2000, node_shape='s', alpha=0.8, font_size=10)\n",
    "edge_labels = nx.get_edge_attributes(G, 'relationship')\n",
    "nx.draw_networkx_edge_labels(G, pos, edge_labels=edge_labels)\n",
    "plt.title('MISP Event Tree Visualization')\n",
    "plt.axis('off')\n",
    "plt.show()"
   ]
  },
  {
   "cell_type": "code",
   "execution_count": null,
   "metadata": {},
   "outputs": [],
   "source": []
  }
 ],
 "metadata": {
  "kernelspec": {
   "display_name": "venv",
   "language": "python",
   "name": "python3"
  },
  "language_info": {
   "codemirror_mode": {
    "name": "ipython",
    "version": 3
   },
   "file_extension": ".py",
   "mimetype": "text/x-python",
   "name": "python",
   "nbconvert_exporter": "python",
   "pygments_lexer": "ipython3",
   "version": "3.11.3"
  },
  "orig_nbformat": 4
 },
 "nbformat": 4,
 "nbformat_minor": 2
}
